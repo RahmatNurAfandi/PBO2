{
  "nbformat": 4,
  "nbformat_minor": 0,
  "metadata": {
    "colab": {
      "provenance": [],
      "authorship_tag": "ABX9TyOHKOZzDL8vgSmnjJH69Lxa",
      "include_colab_link": true
    },
    "kernelspec": {
      "name": "python3",
      "display_name": "Python 3"
    },
    "language_info": {
      "name": "python"
    }
  },
  "cells": [
    {
      "cell_type": "markdown",
      "metadata": {
        "id": "view-in-github",
        "colab_type": "text"
      },
      "source": [
        "<a href=\"https://colab.research.google.com/github/RahmatNurAfandi/PBO2/blob/main/class_hewanpeliharaan.ipynb\" target=\"_parent\"><img src=\"https://colab.research.google.com/assets/colab-badge.svg\" alt=\"Open In Colab\"/></a>"
      ]
    },
    {
      "cell_type": "code",
      "execution_count": 1,
      "metadata": {
        "colab": {
          "base_uri": "https://localhost:8080/"
        },
        "id": "xDSdpvxdlXIb",
        "outputId": "ece8d803-61cf-4643-8653-c2f6a758f13a"
      },
      "outputs": [
        {
          "output_type": "stream",
          "name": "stdout",
          "text": [
            "Nama Hewan: Pen\n",
            "Jenis Hewan: Kucing\n",
            "Umur: 3 tahun\n"
          ]
        }
      ],
      "source": [
        "class HewanPeliharaan:\n",
        "    def __init__(self):\n",
        "        self.nama = \"\"\n",
        "        self.jenis = \"\"\n",
        "        self.umur = 0\n",
        "\n",
        "def main():\n",
        "    hewan = HewanPeliharaan()\n",
        "    hewan.nama = \"Pen\"\n",
        "    hewan.jenis = \"Kucing\"\n",
        "    hewan.umur = 3\n",
        "\n",
        "    print(\"Nama Hewan:\", hewan.nama)\n",
        "    print(\"Jenis Hewan:\", hewan.jenis)\n",
        "    print(\"Umur:\", hewan.umur, \"tahun\")\n",
        "\n",
        "if __name__ == \"__main__\":\n",
        "    main()\n"
      ]
    }
  ]
}