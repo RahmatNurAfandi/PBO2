{
  "nbformat": 4,
  "nbformat_minor": 0,
  "metadata": {
    "colab": {
      "provenance": [],
      "authorship_tag": "ABX9TyP1aeDQmX6NUJEWfqxAApx4",
      "include_colab_link": true
    },
    "kernelspec": {
      "name": "python3",
      "display_name": "Python 3"
    },
    "language_info": {
      "name": "python"
    }
  },
  "cells": [
    {
      "cell_type": "markdown",
      "metadata": {
        "id": "view-in-github",
        "colab_type": "text"
      },
      "source": [
        "<a href=\"https://colab.research.google.com/github/RahmatNurAfandi/PBO2/blob/main/class_mahasiswa.ipynb\" target=\"_parent\"><img src=\"https://colab.research.google.com/assets/colab-badge.svg\" alt=\"Open In Colab\"/></a>"
      ]
    },
    {
      "cell_type": "code",
      "execution_count": 2,
      "metadata": {
        "colab": {
          "base_uri": "https://localhost:8080/"
        },
        "id": "L2tn0UHViCF8",
        "outputId": "0db11513-5f7f-4a77-e2ad-81e8842f0701"
      },
      "outputs": [
        {
          "output_type": "stream",
          "name": "stdout",
          "text": [
            "Nama Mahasiswa: Rahmat nur afandi\n",
            "NIM: 230705143\n",
            "Jurusan: Teknologi Informasi\n"
          ]
        }
      ],
      "source": [
        "class Mahasiswa:\n",
        "    def __init__(self):\n",
        "        self.nama = \"\"\n",
        "        self.nim = \"\"\n",
        "        self.jurusan = \"\"\n",
        "\n",
        "def main():\n",
        "    mhs = Mahasiswa()\n",
        "    mhs.nama = \"Rahmat nur afandi\"\n",
        "    mhs.nim = \"230705143\"\n",
        "    mhs.jurusan = \"Teknologi Informasi\"\n",
        "\n",
        "    print(\"Nama Mahasiswa:\", mhs.nama)\n",
        "    print(\"NIM:\", mhs.nim)\n",
        "    print(\"Jurusan:\", mhs.jurusan)\n",
        "\n",
        "if __name__ == \"__main__\":\n",
        "    main()\n"
      ]
    }
  ]
}