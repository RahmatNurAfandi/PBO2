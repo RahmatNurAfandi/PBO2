{
  "nbformat": 4,
  "nbformat_minor": 0,
  "metadata": {
    "colab": {
      "provenance": [],
      "authorship_tag": "ABX9TyOj0x/TaN5JDq2kc4hUxbVq",
      "include_colab_link": true
    },
    "kernelspec": {
      "name": "python3",
      "display_name": "Python 3"
    },
    "language_info": {
      "name": "python"
    }
  },
  "cells": [
    {
      "cell_type": "markdown",
      "metadata": {
        "id": "view-in-github",
        "colab_type": "text"
      },
      "source": [
        "<a href=\"https://colab.research.google.com/github/RahmatNurAfandi/PBO2/blob/main/class_mobil.ipynb\" target=\"_parent\"><img src=\"https://colab.research.google.com/assets/colab-badge.svg\" alt=\"Open In Colab\"/></a>"
      ]
    },
    {
      "cell_type": "code",
      "execution_count": null,
      "metadata": {
        "id": "kNoavXARklQk"
      },
      "outputs": [],
      "source": [
        "class Mobil:\n",
        "    def __init__(self):\n",
        "        self.merk = \"\"\n",
        "        self.model = \"\"\n",
        "        self.tahun = 0\n",
        "\n",
        "def main():\n",
        "    mobil = Mobil()\n",
        "    mobil.merk = \"Toyota\"\n",
        "    mobil.model = \"Corolla\"\n",
        "    mobil.tahun = 2022\n",
        "\n",
        "    print(\"Merk Mobil:\", mobil.merk)\n",
        "    print(\"Model:\", mobil.model)\n",
        "    print(\"Tahun:\", mobil.tahun)\n",
        "\n",
        "if __name__ == \"__main__\":\n",
        "    main()\n"
      ]
    }
  ]
}