{
  "nbformat": 4,
  "nbformat_minor": 0,
  "metadata": {
    "colab": {
      "provenance": [],
      "authorship_tag": "ABX9TyNjUl3USqMWJLXHrSGzgeXj",
      "include_colab_link": true
    },
    "kernelspec": {
      "name": "python3",
      "display_name": "Python 3"
    },
    "language_info": {
      "name": "python"
    }
  },
  "cells": [
    {
      "cell_type": "markdown",
      "metadata": {
        "id": "view-in-github",
        "colab_type": "text"
      },
      "source": [
        "<a href=\"https://colab.research.google.com/github/RahmatNurAfandi/PBO2/blob/main/class_film.ipynb\" target=\"_parent\"><img src=\"https://colab.research.google.com/assets/colab-badge.svg\" alt=\"Open In Colab\"/></a>"
      ]
    },
    {
      "cell_type": "code",
      "execution_count": 1,
      "metadata": {
        "colab": {
          "base_uri": "https://localhost:8080/"
        },
        "id": "FazqXIC9k5ON",
        "outputId": "93b6eeac-c1f2-463a-9a0b-367f6859bcfc"
      },
      "outputs": [
        {
          "output_type": "stream",
          "name": "stdout",
          "text": [
            "Judul Film: Interstellar\n",
            "Genre: Sci-Fi\n",
            "Tahun Rilis: 2014\n"
          ]
        }
      ],
      "source": [
        "class Film:\n",
        "    def __init__(self):\n",
        "        self.judul = \"\"\n",
        "        self.genre = \"\"\n",
        "        self.tahun_rilis = 0\n",
        "\n",
        "def main():\n",
        "    film = Film()\n",
        "    film.judul = \"Interstellar\"\n",
        "    film.genre = \"Sci-Fi\"\n",
        "    film.tahun_rilis = 2014\n",
        "\n",
        "    print(\"Judul Film:\", film.judul)\n",
        "    print(\"Genre:\", film.genre)\n",
        "    print(\"Tahun Rilis:\", film.tahun_rilis)\n",
        "\n",
        "if __name__ == \"__main__\":\n",
        "    main()\n"
      ]
    }
  ]
}