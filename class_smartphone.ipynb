{
  "nbformat": 4,
  "nbformat_minor": 0,
  "metadata": {
    "colab": {
      "provenance": [],
      "authorship_tag": "ABX9TyOU6bINzKto9QhgZkQMQWdT",
      "include_colab_link": true
    },
    "kernelspec": {
      "name": "python3",
      "display_name": "Python 3"
    },
    "language_info": {
      "name": "python"
    }
  },
  "cells": [
    {
      "cell_type": "markdown",
      "metadata": {
        "id": "view-in-github",
        "colab_type": "text"
      },
      "source": [
        "<a href=\"https://colab.research.google.com/github/RahmatNurAfandi/PBO2/blob/main/class_smartphone.ipynb\" target=\"_parent\"><img src=\"https://colab.research.google.com/assets/colab-badge.svg\" alt=\"Open In Colab\"/></a>"
      ]
    },
    {
      "cell_type": "code",
      "execution_count": null,
      "metadata": {
        "id": "Nqr_LhdvmCRU"
      },
      "outputs": [],
      "source": [
        "class Smartphone:\n",
        "    def __init__(self):\n",
        "        self.merek = \"\"\n",
        "        self.model = \"\"\n",
        "        self.harga = 0\n",
        "\n",
        "def main():\n",
        "    hp = Smartphone()\n",
        "    hp.merek = \"Samsung\"\n",
        "    hp.model = \"Galaxy S23\"\n",
        "    hp.harga = 15000000\n",
        "\n",
        "    print(\"Merek Smartphone:\", hp.merek)\n",
        "    print(\"Model:\", hp.model)\n",
        "    print(\"Harga: Rp\", hp.harga)\n",
        "\n",
        "if __name__ == \"__main__\":\n",
        "    main()\n"
      ]
    }
  ]
}